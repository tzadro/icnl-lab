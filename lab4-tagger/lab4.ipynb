{
 "cells": [
  {
   "cell_type": "code",
   "execution_count": 1,
   "metadata": {
    "collapsed": true
   },
   "outputs": [],
   "source": [
    "# reads words and tags from a file\n",
    "def load_dataset(input_file):\n",
    "    X = [] # list of words\n",
    "    Y_ = [] # list of corresponding tags (for word from X matched by index)\n",
    "    \n",
    "    with open(input_file, 'r', encoding = 'latin-1') as file:\n",
    "        for line in file:\n",
    "            example = line.replace('\\n', '') # compensate for /n/r line endings\n",
    "            elements = example.split('\\t') # tab separated values\n",
    "            word = elements[0]\n",
    "            tag = elements[1]\n",
    "            \n",
    "            X.append(word)\n",
    "            Y_.append(tag)\n",
    "    \n",
    "    return X, Y_\n",
    "\n",
    "# writes words and predicted tags to file\n",
    "# X - list of words\n",
    "# Y - predicted tags for corresponding words\n",
    "def save_predictions(output_file, X, Y):\n",
    "    with open(output_file, 'w') as file:\n",
    "        for word, tag in zip(X, Y):\n",
    "            file.write(word + '\\t' + tag + '\\n')\n",
    "            \n",
    "# calculates accuracy\n",
    "# Y_ - list of correct tags\n",
    "# Y - list of predicted tags (matched by index)\n",
    "def accuracy(Y_, Y):\n",
    "    num_correct = sum([y_ == y for y_, y in zip(Y_, Y)]) # count number of equal elements at every index\n",
    "    num_total = len(Y_)\n",
    "    \n",
    "    return num_correct / num_total # number of correct predictions / total number of examples"
   ]
  },
  {
   "cell_type": "code",
   "execution_count": 2,
   "metadata": {
    "collapsed": true
   },
   "outputs": [],
   "source": [
    "# class that stores releveant information for a word\n",
    "class Word:\n",
    "    def __init__(self):\n",
    "        self.occurrences = {} # key: tag, value: number of examples tagged by tag in key\n",
    "        self.count = 0 # total number of examples\n",
    "    \n",
    "    # record that word was tagged with tag count times\n",
    "    def add_occurrences(self, tag, count=1):\n",
    "        if tag not in self.occurrences: # if there is no record of an example tagged by tag\n",
    "            self.occurrences[tag] = 0 # then create new\n",
    "        \n",
    "        self.occurrences[tag] += count\n",
    "        self.count += count\n",
    "    \n",
    "    # returns list of tuples: (number of examples tagged by tag, tag)\n",
    "    def get_occurrences(self):\n",
    "        occrncs = []\n",
    "        \n",
    "        for tag in self.occurrences:\n",
    "            occrncs.append((self.occurrences[tag], tag))\n",
    "        \n",
    "        return occrncs\n",
    "    \n",
    "    # returns list of tuples: (P(tag|word), tag)\n",
    "    def get_probabilities(self):\n",
    "        probs = []\n",
    "        \n",
    "        for tag in self.occurrences:\n",
    "            prob = self.occurrences[tag] / self.count # P(tag|word) = count(word, tag) / count(word)\n",
    "            probs.append((prob, tag))\n",
    "        \n",
    "        return probs"
   ]
  },
  {
   "cell_type": "code",
   "execution_count": 3,
   "metadata": {
    "collapsed": true
   },
   "outputs": [],
   "source": [
    "# class represents unigrams model\n",
    "class Unigrams:\n",
    "    def __init__(self):\n",
    "        self.dictionary = {} # key: word, value: Word class tracking tag occurrences for word key\n",
    "\n",
    "    # train model\n",
    "    # X - list of words\n",
    "    # Y_ - correct tags (tag at index i of Y_ corresponds to word at index i of X)\n",
    "    def train(self, X, Y_):\n",
    "        for word, tag in zip(X, Y_):\n",
    "            if word not in self.dictionary: # if there is no tracker for word\n",
    "                self.dictionary[word] = Word() # then create new\n",
    "\n",
    "            self.dictionary[word].add_occurrences(tag) # for every training example record occurrence\n",
    "    \n",
    "    # saves model to a file as tsv\n",
    "    # format: word tag number_of_occurrences\n",
    "    def save(self, output_file):\n",
    "        with open(output_file, 'w') as file:\n",
    "            for word in self.dictionary:\n",
    "                for num_occurrences, tag in self.dictionary[word].get_occurrences():\n",
    "                    file.write(word + '\\t' + tag + '\\t' + str(num_occurrences) + '\\n')\n",
    "    \n",
    "    # loads model from a file that has format like one in self.save()\n",
    "    def load(self, input_file):\n",
    "        self.dictionary = {}\n",
    "        \n",
    "        with open(input_file, 'r') as file:\n",
    "            for line in file:\n",
    "                elements = line.split('\\t')\n",
    "                word = elements[0]\n",
    "                tag = elements[1]\n",
    "                num_occurrences = int(elements[2])\n",
    "                \n",
    "                if word not in self.dictionary:\n",
    "                    self.dictionary[word] = Word()\n",
    "                    \n",
    "                self.dictionary[word].add_occurrences(tag, num_occurrences)\n",
    "    \n",
    "    # for list of words X returns predictions Y (tag Y[i] for word X[i])\n",
    "    def predict(self, X):\n",
    "        Y = []\n",
    "        \n",
    "        for word in X:\n",
    "            if word not in self.dictionary: # if there is no record for given word\n",
    "                Y.append('NO_DATA') # then we're in trouble\n",
    "                continue\n",
    "            \n",
    "            probabilities = self.dictionary[word].get_probabilities() # get tag probabilities from word counter\n",
    "            tag = max(probabilities)[1] # select tag that has the biggest probability\n",
    "            # ⌃can we replace this by random.choice() with prob distribution matching tag probabilities?⌃\n",
    "            Y.append(tag)\n",
    "        \n",
    "        return Y"
   ]
  },
  {
   "cell_type": "code",
   "execution_count": 4,
   "metadata": {},
   "outputs": [
    {
     "name": "stdout",
     "output_type": "stream",
     "text": [
      "test_1 accuracy: 0.98\n",
      "test_2 accuracy: 0.94\n"
     ]
    }
   ],
   "source": [
    "TRAIN_SET = 'corpus.txt'\n",
    "MODEL_DATA = 'lexic.txt'\n",
    "TEST_SET_1 = 'gold_standard_1.txt'\n",
    "TEST_OUTPUT_1 = 'test_1_predictions.txt'\n",
    "TEST_SET_2 = 'gold_standard_2.txt'\n",
    "TEST_OUTPUT_2 = 'test_2_predictions.txt'\n",
    "\n",
    "# init model\n",
    "model = Unigrams()\n",
    "\n",
    "# train model\n",
    "X, Y_ = load_dataset(TRAIN_SET)\n",
    "model.train(X, Y_)\n",
    "\n",
    "# save model\n",
    "model.save(MODEL_DATA)\n",
    "# model.load(MODEL_DATA)\n",
    "\n",
    "# test_1\n",
    "X, Y_ = load_dataset(TEST_SET_1)\n",
    "Y = model.predict(X)\n",
    "save_predictions(TEST_OUTPUT_1, X, Y)\n",
    "print('test_1 accuracy: {:.2f}'.format(accuracy(Y_, Y)))\n",
    "\n",
    "# test_2\n",
    "X, Y_ = load_dataset(TEST_SET_2)\n",
    "Y = model.predict(X)\n",
    "save_predictions(TEST_OUTPUT_2, X, Y)\n",
    "print('test_2 accuracy: {:.2f}'.format(accuracy(Y_, Y)))"
   ]
  },
  {
   "cell_type": "code",
   "execution_count": null,
   "metadata": {
    "collapsed": true
   },
   "outputs": [],
   "source": []
  }
 ],
 "metadata": {
  "kernelspec": {
   "display_name": "Python 3",
   "language": "python3",
   "name": "python3"
  },
  "language_info": {
   "codemirror_mode": {
    "name": "ipython",
    "version": 3
   },
   "file_extension": ".py",
   "mimetype": "text/x-python",
   "name": "python",
   "nbconvert_exporter": "python",
   "pygments_lexer": "ipython3",
   "version": "3.6.4"
  }
 },
 "nbformat": 4,
 "nbformat_minor": 2
}
