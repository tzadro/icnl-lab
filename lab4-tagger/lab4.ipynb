{
 "cells": [
  {
   "cell_type": "code",
   "execution_count": 41,
   "metadata": {
    "collapsed": true
   },
   "outputs": [],
   "source": [
    "def load_dataset(input_file):\n",
    "    X = []\n",
    "    Y_ = []\n",
    "    \n",
    "    with open(input_file, 'r', encoding = 'latin-1') as file:\n",
    "        for line in file:\n",
    "            example = line.replace('\\n', '')\n",
    "            elements = example.split('\\t')\n",
    "            word = elements[0]\n",
    "            tag = elements[1]\n",
    "            \n",
    "            X.append(word)\n",
    "            Y_.append(tag)\n",
    "    \n",
    "    return X, Y_\n",
    "\n",
    "def save_predictions(output_file, X, Y):\n",
    "    with open(output_file, 'w') as file:\n",
    "        for word, tag in zip(X, Y):\n",
    "            file.write(word + '\\t' + tag + '\\n')\n",
    "            \n",
    "def accuracy(Y_, Y):\n",
    "    num_correct = sum([y_ == y for y_, y in zip(Y_, Y)])\n",
    "    num_total = len(Y_)\n",
    "    \n",
    "    return num_correct / num_total"
   ]
  },
  {
   "cell_type": "code",
   "execution_count": 42,
   "metadata": {
    "collapsed": true
   },
   "outputs": [],
   "source": [
    "class Word:\n",
    "    def __init__(self):\n",
    "        self.occurences = {}\n",
    "        self.count = 0\n",
    "    \n",
    "    def add_occurences(self, tag, count=1):\n",
    "        if tag not in self.occurences:\n",
    "            self.occurences[tag] = 0\n",
    "        \n",
    "        self.occurences[tag] += count\n",
    "        self.count += count\n",
    "    \n",
    "    def get_occurences(self):\n",
    "        occrncs = []\n",
    "        \n",
    "        for tag in self.occurences:\n",
    "            occrncs.append((self.occurences[tag], tag))\n",
    "        \n",
    "        return occrncs\n",
    "    \n",
    "    def get_probabilities(self):\n",
    "        probs = []\n",
    "        \n",
    "        for tag in self.occurences:\n",
    "            prob = self.occurences[tag] / self.count\n",
    "            probs.append((prob, tag))\n",
    "        \n",
    "        return probs"
   ]
  },
  {
   "cell_type": "code",
   "execution_count": 43,
   "metadata": {},
   "outputs": [],
   "source": [
    "class Unigrams:\n",
    "    def __init__(self):\n",
    "        self.dictionary = {}\n",
    "\n",
    "    def train(self, X, Y_):\n",
    "        for word, tag in zip(X, Y_):\n",
    "            if word not in self.dictionary:\n",
    "                self.dictionary[word] = Word()\n",
    "\n",
    "            self.dictionary[word].add_occurences(tag)\n",
    "    \n",
    "    def save(self, output_file):\n",
    "        with open(output_file, 'w') as file:\n",
    "            for word in self.dictionary:\n",
    "                for num_occurences, tag in self.dictionary[word].get_occurences():\n",
    "                    file.write(word + '\\t' + tag + '\\t' + str(num_occurences) + '\\n')\n",
    "    \n",
    "    def load(self, input_file):\n",
    "        self.dictionary = {}\n",
    "        \n",
    "        with open(input_file, 'r') as file:\n",
    "            for line in file:\n",
    "                elements = line.split('\\t')\n",
    "                word = elements[0]\n",
    "                tag = elements[1]\n",
    "                num_occurences = int(elements[2])\n",
    "                \n",
    "                if word not in self.dictionary:\n",
    "                    self.dictionary[word] = Word()\n",
    "                    \n",
    "                self.dictionary[word].add_occurences(tag, num_occurences)\n",
    "    \n",
    "    def predict(self, X):\n",
    "        Y = []\n",
    "        \n",
    "        for word in X:\n",
    "            if word not in self.dictionary:\n",
    "                Y.append('NO_DATA')\n",
    "                continue\n",
    "            \n",
    "            probabilities = self.dictionary[word].get_probabilities()\n",
    "            tag = max(probabilities)[1]\n",
    "            Y.append(tag)\n",
    "        \n",
    "        return Y"
   ]
  },
  {
   "cell_type": "code",
   "execution_count": 44,
   "metadata": {},
   "outputs": [
    {
     "name": "stdout",
     "output_type": "stream",
     "text": [
      "test_1 accuracy: 0.9780650215432825\n",
      "test_2 accuracy: 0.9410089503661514\n"
     ]
    }
   ],
   "source": [
    "TRAIN_SET = 'corpus.txt'\n",
    "MODEL_DATA = 'lexic.txt'\n",
    "TEST_SET_1 = 'gold_standard_1.txt'\n",
    "TEST_OUTPUT_1 = 'test_1_predictions.txt'\n",
    "TEST_SET_2 = 'gold_standard_2.txt'\n",
    "TEST_OUTPUT_2 = 'test_2_predictions.txt'\n",
    "\n",
    "model = Unigrams()\n",
    "\n",
    "# train\n",
    "X, Y_ = load_dataset(TRAIN_SET)\n",
    "model.train(X, Y_)\n",
    "\n",
    "# save model\n",
    "model.save(MODEL_DATA)\n",
    "# model.load(MODEL_DATA)\n",
    "\n",
    "# test_1\n",
    "X, Y_ = load_dataset(TEST_SET_1)\n",
    "Y = model.predict(X)\n",
    "save_predictions(TEST_OUTPUT_1, X, Y)\n",
    "print('test_1 accuracy:', accuracy(Y_, Y))\n",
    "\n",
    "# test_2\n",
    "X, Y_ = load_dataset(TEST_SET_2)\n",
    "Y = model.predict(X)\n",
    "save_predictions(TEST_OUTPUT_2, X, Y)\n",
    "print('test_2 accuracy:', accuracy(Y_, Y))"
   ]
  },
  {
   "cell_type": "code",
   "execution_count": null,
   "metadata": {
    "collapsed": true
   },
   "outputs": [],
   "source": []
  }
 ],
 "metadata": {
  "kernelspec": {
   "display_name": "Python 3",
   "language": "python3",
   "name": "python3"
  },
  "language_info": {
   "codemirror_mode": {
    "name": "ipython",
    "version": 3
   },
   "file_extension": ".py",
   "mimetype": "text/x-python",
   "name": "python",
   "nbconvert_exporter": "python",
   "pygments_lexer": "ipython3",
   "version": "3.6.4"
  }
 },
 "nbformat": 4,
 "nbformat_minor": 2
}
