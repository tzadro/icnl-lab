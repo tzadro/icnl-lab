{
 "cells": [
  {
   "cell_type": "markdown",
   "metadata": {
    "collapsed": true
   },
   "source": [
    "# Practice 2: Indetification of gender using bag-of-words classificiation\n",
    "Tvrtko Zadro"
   ]
  },
  {
   "cell_type": "markdown",
   "metadata": {},
   "source": [
    "First we need to import all packages that will be used, mostly *sklearn*'s machine learning models."
   ]
  },
  {
   "cell_type": "code",
   "execution_count": 1,
   "metadata": {
    "collapsed": true
   },
   "outputs": [],
   "source": [
    "import numpy as np\n",
    "import matplotlib.pyplot as plt\n",
    "from os import listdir\n",
    "from re import sub\n",
    "from sklearn.ensemble import BaggingClassifier\n",
    "from sklearn.neighbors import KNeighborsClassifier\n",
    "from sklearn.ensemble import RandomForestClassifier\n",
    "from sklearn.ensemble import AdaBoostClassifier\n",
    "from sklearn.naive_bayes import GaussianNB\n",
    "from sklearn.naive_bayes import MultinomialNB\n",
    "from sklearn.svm import SVC\n",
    "from sklearn.svm import LinearSVC\n",
    "from sklearn.model_selection import KFold"
   ]
  },
  {
   "cell_type": "markdown",
   "metadata": {},
   "source": [
    "Helper function *compute_accuracy* takes for an argument takes set of correct labels *Y_* and set of predicted labels *Y* and returns accuraccy of prediction."
   ]
  },
  {
   "cell_type": "code",
   "execution_count": 2,
   "metadata": {
    "collapsed": true
   },
   "outputs": [],
   "source": [
    "def compute_accuracy(Y_, Y):\n",
    "    num_correct = sum([y_ == y for y_, y in zip(Y_, Y)])\n",
    "    num_total = len(Y_)\n",
    "    \n",
    "    return num_correct / num_total"
   ]
  },
  {
   "cell_type": "markdown",
   "metadata": {},
   "source": [
    "Function *find_most_frequent* finds *N* most frequent words in set of files identified by *paths*. Function first makes a dictionary to store number of occurences of every word. Then goes through every file and splits it by spaces, takes every word and cleans it to get lowercase version without special characters. It then updates dictionary. At the end of the proces, we take all dictionary items. Representation is a list where every element is tuple *(word, number_of_occurences)*, we then do descending sort on the list and first *N* elements of the list will be *N* most frequent words in given documents."
   ]
  },
  {
   "cell_type": "code",
   "execution_count": 3,
   "metadata": {
    "collapsed": true
   },
   "outputs": [],
   "source": [
    "def find_most_frequent(paths, N):\n",
    "    dictionary = {}\n",
    "    \n",
    "    for path in paths:\n",
    "        with open(path, 'r', encoding = 'latin-1') as file:\n",
    "            for line in file:\n",
    "                for word in line.split(' '):\n",
    "                    clean_word = sub(r'\\W+', '', word).lower()  # clean word\n",
    "                    \n",
    "                    if clean_word == '':  # if it's empty skip\n",
    "                        continue\n",
    "                    \n",
    "                    if clean_word not in dictionary:  # if it's first time create new entry\n",
    "                        dictionary[clean_word] = 0\n",
    "                    \n",
    "                    dictionary[clean_word] += 1  # update occurence\n",
    "    \n",
    "    by_frequency = sorted(dictionary.items(), reverse=True, key=lambda x: x[1])  # sort descending\n",
    "    most_frequent = map(lambda x: x[0], by_frequency[:N])  # take only first N words\n",
    "    return list(most_frequent)"
   ]
  },
  {
   "cell_type": "markdown",
   "metadata": {},
   "source": [
    "Function *calculate_features* calculates features for multiple documents.\n",
    "It takes list of document *paths* as first argument and list of *most_frequent* words as the other. *most_frequent* will actually be only words we will be looking for in every document and it's size determines the size of example's feature vector. Every document in *paths* represents one example and it's name is used to determine it's gender label.\n",
    "Function returns data ready to be used by *sklearn*'s machine learning models. This means method will return return two-dimensional array *X* which represents feature vectors for dataset. *X* is of shape *[n][N]* where *n* is number of examples (documents) and *N* is number of most frequent words observed (size of feature vector). Array *Y_* are labels for those examples, list of string where each example can either be *female* or *male*. *Y_[i]* represents label for example *X[i]*."
   ]
  },
  {
   "cell_type": "code",
   "execution_count": 4,
   "metadata": {
    "collapsed": true
   },
   "outputs": [],
   "source": [
    "def calculate_features(paths, most_frequent):\n",
    "    X = []\n",
    "    Y_ = []\n",
    "    \n",
    "    N = len(most_frequent)\n",
    "    for path in paths:  # for every document (example)\n",
    "        label = path.split('_')[-1]  # take label\n",
    "        Y_.append(label)  # add it to labels\n",
    "        \n",
    "        total = 0  # track total number of words in document\n",
    "        features = [0] * N  # feature vector size is determined by number of most frequent words we track\n",
    "        \n",
    "        with open(path, 'r', encoding = 'latin-1') as file:\n",
    "            for line in file:\n",
    "                for word in line.split(' '):\n",
    "                    total += 1  # update total number of words\n",
    "                    clean_word = sub(r'\\W+', '', word).lower()  # clean word\n",
    "                    \n",
    "                    if clean_word not in most_frequent:  # if it is not one of the most frequent continue\n",
    "                        continue\n",
    "                    \n",
    "                    features[most_frequent.index(clean_word)] += 1  # update occurence\n",
    "        \n",
    "        features = [f / total for f in features]  # divide every number of occurences by total number of words to get percentage\n",
    "        X.append(features)  # add feature vector to list of examples\n",
    "    \n",
    "    return np.array(X), np.array(Y_)"
   ]
  },
  {
   "cell_type": "markdown",
   "metadata": {},
   "source": [
    "Helper function *fit_and_compute_accuracy* takes for arguments *sklearn*'s machine learning *model*, training set and test set. It then fits the model with training set and returns accuracy of it's prediction for test set."
   ]
  },
  {
   "cell_type": "code",
   "execution_count": 5,
   "metadata": {
    "collapsed": true
   },
   "outputs": [],
   "source": [
    "def fit_and_compute_accuracy(model, X_train, Y_train, X_test, Y_test):\n",
    "    model.fit(X_train, Y_train)  # fit\n",
    "    Y = model.predict(X_test)  # predict\n",
    "    return compute_accuracy(Y_test, Y)  # evaluate"
   ]
  },
  {
   "cell_type": "markdown",
   "metadata": {},
   "source": [
    "Constants for this example. *Ns* represents all sizes of feature vectors we will check and *n_splits* marks number of splits we will use for our K-fold cross validation."
   ]
  },
  {
   "cell_type": "code",
   "execution_count": 6,
   "metadata": {
    "collapsed": true
   },
   "outputs": [],
   "source": [
    "colors = ['red', 'green', 'blue', 'magenta', 'orange', 'purple', 'cyan']\n",
    "data_dir = 'dataset'\n",
    "Ns = [5, 10, 20, 50, 100, 150, 200, 300]\n",
    "n_splits = 10"
   ]
  },
  {
   "cell_type": "markdown",
   "metadata": {},
   "source": [
    "First we find most frequent words in our dataset. To make sure we don't have to redo this process for every *N* (because it's really time consuming), we will find *N* most frequent words for biggest *N* and later only take subset of these to test for smaller *N*'s, since *N* does not affect word frequency.\n",
    "*N* also does not affect size of each dimension of the feature vector, only it's size. Because of that we can do the same thing, calculate features for biggest *N* and later take only it's subset.\n",
    "Size of each dimension of feature vector represents percentage of occurance for word dimension represents in the whole text, that's why it is not affected by *N*. If it were percentage of occurance only in contrast to most frequent words, then we wouldn't be able to do this."
   ]
  },
  {
   "cell_type": "code",
   "execution_count": 7,
   "metadata": {
    "collapsed": true
   },
   "outputs": [],
   "source": [
    "data_paths = [data_dir + '/' + file for file in listdir(data_dir)]\n",
    "\n",
    "most_frequent = find_most_frequent(data_paths, Ns[-1])\n",
    "X, Y_ = calculate_features(data_paths, most_frequent)"
   ]
  },
  {
   "cell_type": "markdown",
   "metadata": {},
   "source": [
    "Here we populate list of *sklearn*'s machine learning models we will test. Every element in the list is represented by a touple *(model, name)* so we can later correctly label models in our graph."
   ]
  },
  {
   "cell_type": "code",
   "execution_count": 8,
   "metadata": {
    "collapsed": true
   },
   "outputs": [],
   "source": [
    "models = []\n",
    "models.append((BaggingClassifier(KNeighborsClassifier(), max_samples=0.5, max_features=0.5), 'Bagging'))\n",
    "models.append((RandomForestClassifier(n_estimators=10), 'Random Forest'))\n",
    "models.append((AdaBoostClassifier(n_estimators=100), 'AdaBoost'))\n",
    "models.append((GaussianNB(), 'Gaussian NB'))\n",
    "models.append((MultinomialNB(), 'Multinomial NB'))\n",
    "models.append((SVC(), 'SVC'))\n",
    "models.append((LinearSVC(), 'Linear SVC'))"
   ]
  },
  {
   "cell_type": "markdown",
   "metadata": {},
   "source": [
    "Here we do our K-fold cross validation, and calculate average accuracies for every model for every *N*."
   ]
  },
  {
   "cell_type": "code",
   "execution_count": 9,
   "metadata": {
    "collapsed": true
   },
   "outputs": [],
   "source": [
    "accuracies = np.empty((len(models), len(Ns), n_splits))\n",
    "for i, N in enumerate(Ns):  # for every N\n",
    "    kf = KFold(n_splits=n_splits)  # create k-fold\n",
    "    for j, (train, test) in enumerate(kf.split(X, Y_)):  # done n_k times where n_k is number of folds\n",
    "        X_train, Y_train = X[train,:N], Y_[train]  # take only N columns of feature vectors\n",
    "        X_test, Y_test = X[test,:N], Y_[test]  # same as above\n",
    "        \n",
    "        for k, (model, _) in enumerate(models):  # for every model check accuracy\n",
    "            accuracies[k][i][j] = fit_and_compute_accuracy(model, X_train, Y_train, X_test, Y_test)\n",
    "accuracies = np.sum(accuracies, axis=2) / n_splits  # sum all accuracies for every N for every model and divide by number of splits to get average"
   ]
  },
  {
   "cell_type": "markdown",
   "metadata": {},
   "source": [
    "Finally, we plot a graph showing how well each of the different models predicts geneder of text author. We can note that models obviously behave better for bigger feature vectors. My guess is it is because dimensionality is bigger and it is easier to find decision function that splits both classes."
   ]
  },
  {
   "cell_type": "code",
   "execution_count": 10,
   "metadata": {},
   "outputs": [
    {
     "data": {
      "image/png": "[encoded data removed]",
      "text/plain": [
       "<matplotlib.figure.Figure at 0x1116edf28>"
      ]
     },
     "metadata": {},
     "output_type": "display_data"
    }
   ],
   "source": [
    "for i, (_, name) in enumerate(models):\n",
    "    plt.plot(Ns, accuracies[i], label=name, c=colors[i])\n",
    "plt.title('Gender Prediction')\n",
    "plt.xlabel('N')\n",
    "plt.ylabel('Accuracy')\n",
    "plt.legend()\n",
    "plt.show()"
   ]
  },
  {
   "cell_type": "code",
   "execution_count": null,
   "metadata": {
    "collapsed": true
   },
   "outputs": [],
   "source": []
  }
 ],
 "metadata": {
  "kernelspec": {
   "display_name": "Python 3",
   "language": "python3",
   "name": "python3"
  },
  "language_info": {
   "codemirror_mode": {
    "name": "ipython",
    "version": 3
   },
   "file_extension": ".py",
   "mimetype": "text/x-python",
   "name": "python",
   "nbconvert_exporter": "python",
   "pygments_lexer": "ipython3",
   "version": "3.6.4"
  }
 },
 "nbformat": 4,
 "nbformat_minor": 2
}
