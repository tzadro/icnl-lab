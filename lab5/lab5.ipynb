{
 "cells": [
  {
   "cell_type": "code",
   "execution_count": 1,
   "metadata": {
    "collapsed": true
   },
   "outputs": [],
   "source": [
    "import numpy as np\n",
    "import matplotlib as plt\n",
    "from os import listdir\n",
    "from re import sub\n",
    "from sklearn import model_selection"
   ]
  },
  {
   "cell_type": "code",
   "execution_count": 2,
   "metadata": {
    "collapsed": true
   },
   "outputs": [],
   "source": [
    "data_dir = 'dataset'\n",
    "N = 20\n",
    "test_size = 0.2\n",
    "n_splits = 10"
   ]
  },
  {
   "cell_type": "code",
   "execution_count": 3,
   "metadata": {
    "collapsed": true
   },
   "outputs": [],
   "source": [
    "def compute_accuracy(Y_, Y):\n",
    "    num_correct = sum([y_ == y for y_, y in zip(Y_, Y)])\n",
    "    num_total = len(Y_)\n",
    "    \n",
    "    return num_correct / num_total"
   ]
  },
  {
   "cell_type": "code",
   "execution_count": 4,
   "metadata": {},
   "outputs": [],
   "source": [
    "def find_most_frequent(paths, N):\n",
    "    dictionary = {}\n",
    "    \n",
    "    for path in paths:\n",
    "        with open(path, 'r', encoding = 'latin-1') as file:\n",
    "            for line in file:\n",
    "                for word in line.split(' '):\n",
    "                    clean_word = sub(r'\\W+', '', word).lower()\n",
    "                    \n",
    "                    if clean_word not in dictionary:\n",
    "                        dictionary[clean_word] = 0\n",
    "                    \n",
    "                    dictionary[clean_word] += 1\n",
    "    \n",
    "    by_frequency = sorted(dictionary.items(), key=lambda x: x[1])\n",
    "    most_frequent = map(lambda x: x[0], by_frequency[-N:])\n",
    "    return list(most_frequent)"
   ]
  },
  {
   "cell_type": "code",
   "execution_count": 5,
   "metadata": {
    "collapsed": true
   },
   "outputs": [],
   "source": [
    "def calculate_features(paths, most_frequent):\n",
    "    X = []\n",
    "    Y_ = []\n",
    "    \n",
    "    N = len(most_frequent)\n",
    "    for path in paths:\n",
    "        label = path.split('_')[-1]\n",
    "        Y_.append(label)\n",
    "        \n",
    "        total = 0\n",
    "        features = [0] * N\n",
    "        \n",
    "        with open(path, 'r', encoding = 'latin-1') as file:\n",
    "            for line in file:\n",
    "                for word in line.split(' '):\n",
    "                    total += 1\n",
    "                    clean_word = sub(r'\\W+', '', word).lower()\n",
    "                    \n",
    "                    if clean_word not in most_frequent:\n",
    "                        continue\n",
    "                    \n",
    "                    features[most_frequent.index(clean_word)] += 1\n",
    "        \n",
    "        # features = [f / total for f in features]\n",
    "        X.append(features)\n",
    "    \n",
    "    return np.array(X), np.array(Y_)"
   ]
  },
  {
   "cell_type": "code",
   "execution_count": 6,
   "metadata": {},
   "outputs": [],
   "source": [
    "data_paths = [data_dir + '/' + file for file in listdir(data_dir)]\n",
    "\n",
    "most_frequent = find_most_frequent(data_paths, N)\n",
    "X, Y_ = calculate_features(data_paths, most_frequent)\n",
    "\n",
    "X_train, X_test, Y_train, Y_test = model_selection.train_test_split(X, Y_, test_size=test_size)"
   ]
  },
  {
   "cell_type": "code",
   "execution_count": 7,
   "metadata": {},
   "outputs": [
    {
     "name": "stdout",
     "output_type": "stream",
     "text": [
      "0.7063492063492064\n"
     ]
    }
   ],
   "source": [
    "from sklearn.ensemble import BaggingClassifier\n",
    "from sklearn.neighbors import KNeighborsClassifier\n",
    "\n",
    "model = BaggingClassifier(KNeighborsClassifier(), max_samples=0.5, max_features=0.5)\n",
    "\n",
    "model.fit(X_train, Y_train)\n",
    "Y = model.predict(X_test)\n",
    "print(compute_accuracy(Y_test, Y))"
   ]
  },
  {
   "cell_type": "code",
   "execution_count": 8,
   "metadata": {},
   "outputs": [
    {
     "name": "stdout",
     "output_type": "stream",
     "text": [
      "0.7261904761904762\n"
     ]
    }
   ],
   "source": [
    "from sklearn.ensemble import RandomForestClassifier\n",
    "\n",
    "model = RandomForestClassifier(n_estimators=10)\n",
    "\n",
    "model.fit(X_train, Y_train)\n",
    "Y = model.predict(X_test)\n",
    "print(compute_accuracy(Y_test, Y))"
   ]
  },
  {
   "cell_type": "code",
   "execution_count": 9,
   "metadata": {},
   "outputs": [
    {
     "name": "stdout",
     "output_type": "stream",
     "text": [
      "0.7420634920634921\n"
     ]
    }
   ],
   "source": [
    "from sklearn.ensemble import AdaBoostClassifier\n",
    "\n",
    "model = AdaBoostClassifier(n_estimators=100)\n",
    "\n",
    "model.fit(X_train, Y_train)\n",
    "Y = model.predict(X_test)\n",
    "print(compute_accuracy(Y_test, Y))"
   ]
  },
  {
   "cell_type": "code",
   "execution_count": 10,
   "metadata": {},
   "outputs": [
    {
     "name": "stdout",
     "output_type": "stream",
     "text": [
      "0.6190476190476191\n"
     ]
    }
   ],
   "source": [
    "from sklearn.naive_bayes import GaussianNB\n",
    "\n",
    "model = GaussianNB()\n",
    "\n",
    "model.fit(X_train, Y_train)\n",
    "Y = model.predict(X_test)\n",
    "print(compute_accuracy(Y_test, Y))"
   ]
  },
  {
   "cell_type": "code",
   "execution_count": 11,
   "metadata": {},
   "outputs": [
    {
     "name": "stdout",
     "output_type": "stream",
     "text": [
      "0.6547619047619048\n"
     ]
    }
   ],
   "source": [
    "from sklearn.naive_bayes import MultinomialNB\n",
    "\n",
    "model = MultinomialNB()\n",
    "\n",
    "model.fit(X_train, Y_train)\n",
    "Y = model.predict(X_test)\n",
    "print(compute_accuracy(Y_test, Y))"
   ]
  },
  {
   "cell_type": "code",
   "execution_count": 12,
   "metadata": {},
   "outputs": [
    {
     "name": "stdout",
     "output_type": "stream",
     "text": [
      "0.44841269841269843\n"
     ]
    }
   ],
   "source": [
    "from sklearn.svm import SVC\n",
    "\n",
    "model = SVC()\n",
    "\n",
    "model.fit(X_train, Y_train)\n",
    "Y = model.predict(X_test)\n",
    "print(compute_accuracy(Y_test, Y))"
   ]
  },
  {
   "cell_type": "code",
   "execution_count": 13,
   "metadata": {},
   "outputs": [
    {
     "name": "stdout",
     "output_type": "stream",
     "text": [
      "0.5873015873015873\n"
     ]
    }
   ],
   "source": [
    "from sklearn.svm import LinearSVC\n",
    "\n",
    "model = LinearSVC()\n",
    "\n",
    "model.fit(X_train, Y_train)\n",
    "Y = model.predict(X_test)\n",
    "print(compute_accuracy(Y_test, Y))"
   ]
  },
  {
   "cell_type": "code",
   "execution_count": 14,
   "metadata": {
    "collapsed": true
   },
   "outputs": [],
   "source": [
    "def fit_and_compute_accuracy(model, X_train, Y_train, X_test, Y_test):\n",
    "    model.fit(X_train, Y_train)\n",
    "    Y = model.predict(X_test)\n",
    "    return compute_accuracy(Y_test, Y)"
   ]
  },
  {
   "cell_type": "code",
   "execution_count": 16,
   "metadata": {},
   "outputs": [
    {
     "name": "stdout",
     "output_type": "stream",
     "text": [
      "0.7777777777777777\n"
     ]
    }
   ],
   "source": [
    "from sklearn.model_selection import KFold\n",
    "\n",
    "accuracies = []\n",
    "\n",
    "kf = KFold(n_splits=n_splits)\n",
    "for train, test in kf.split(X, Y_):\n",
    "    model = BaggingClassifier(KNeighborsClassifier(), max_samples=0.5, max_features=0.5)\n",
    "    accuracy = fit_and_compute_accuracy(model, X[train], Y_[train], X[test], Y_[test])\n",
    "    accuracies.append(accuracy)\n",
    "\n",
    "print(sum(accuracies) / n_splits)"
   ]
  },
  {
   "cell_type": "code",
   "execution_count": null,
   "metadata": {
    "collapsed": true
   },
   "outputs": [],
   "source": []
  }
 ],
 "metadata": {
  "kernelspec": {
   "display_name": "Python 3",
   "language": "python3",
   "name": "python3"
  },
  "language_info": {
   "codemirror_mode": {
    "name": "ipython",
    "version": 3
   },
   "file_extension": ".py",
   "mimetype": "text/x-python",
   "name": "python",
   "nbconvert_exporter": "python",
   "pygments_lexer": "ipython3",
   "version": "3.6.4"
  }
 },
 "nbformat": 4,
 "nbformat_minor": 2
}
